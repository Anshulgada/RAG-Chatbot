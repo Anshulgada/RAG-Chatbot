{
 "cells": [
  {
   "cell_type": "markdown",
   "metadata": {},
   "source": [
    "# PDF Chatbot with Llama-2"
   ]
  },
  {
   "cell_type": "markdown",
   "metadata": {},
   "source": [
    "## 1. Setup and Configuration"
   ]
  },
  {
   "cell_type": "code",
   "execution_count": null,
   "id": "2438e16e",
   "metadata": {},
   "outputs": [],
   "source": [
    "import time\n",
    "import torch\n",
    "from langchain_community.document_loaders import PyPDFLoader\n",
    "from langchain.text_splitter import RecursiveCharacterTextSplitter\n",
    "from langchain.vectorstores import Chroma\n",
    "from langchain.llms import LlamaCpp\n",
    "from langchain.callbacks.manager import CallbackManager\n",
    "from langchain.callbacks.streaming_stdout import StreamingStdOutCallbackHandler\n",
    "from langchain.chains import RetrievalQA\n",
    "from langchain_community.embeddings import HuggingFaceEmbeddings # Deprecated\n",
    "# from langchain_huggingface import HuggingFaceEmbeddings # New\n"
   ]
  },
  {
   "cell_type": "code",
   "execution_count": null,
   "id": "c8c2ec17",
   "metadata": {},
   "outputs": [],
   "source": [
    "# # Downloading model with timeout and retries\n",
    "# # Not uploading the modelfile to github, either download manually or use the code below\n",
    "\n",
    "# import requests\n",
    "# from tqdm import tqdm\n",
    "\n",
    "# def download_with_timeout(repo_id, filename, timeout=60, retries=3):\n",
    "#     url = f\"https://huggingface.co/{repo_id}/resolve/main/{filename}\"\n",
    "    \n",
    "#     for attempt in range(retries):\n",
    "#         try:\n",
    "#             response = requests.get(url, timeout=timeout, stream=True)\n",
    "#             response.raise_for_status()\n",
    "            \n",
    "#             total_size = int(response.headers.get('content-length', 0))\n",
    "#             with open(filename, 'wb') as f:\n",
    "#                 for data in tqdm(response.iter_content(chunk_size=4096), total=total_size//4096, unit='KB'):\n",
    "#                     f.write(data)\n",
    "#             break  # Exit loop on success\n",
    "#         except requests.exceptions.RequestException as e:\n",
    "#             print(f\"Attempt {attempt + 1} failed: {e}\")\n",
    "#             if attempt < retries - 1:\n",
    "#                 time.sleep(2 ** attempt)  # Exponential backoff\n",
    "#             else:\n",
    "#                 print(\"Max retries reached. Download failed.\")\n",
    "\n",
    "# download_with_timeout(\"TheBloke/Llama-2-7B-GGUF\", \"llama-2-7b.Q4_K_M.gguf\")"
   ]
  },
  {
   "cell_type": "code",
   "execution_count": null,
   "id": "2953faca",
   "metadata": {},
   "outputs": [],
   "source": [
    "start_time = time.time()\n",
    "\n",
    "# Check for GPU availability and print Torch version\n",
    "device = f'cuda:{torch.cuda.current_device()}' if torch.cuda.is_available() else 'cpu'\n",
    "print(f\"Using device: {device}\")\n",
    "\n",
    "if device != 'cpu':\n",
    "    print('Torch version:', torch.__version__)\n",
    "\n",
    "end_time = time.time()\n",
    "print(f\"Time taken to execute the version tests: {round(end_time - start_time, 4)} seconds\")"
   ]
  },
  {
   "cell_type": "markdown",
   "id": "997bd38d",
   "metadata": {},
   "source": [
    "## 2. Load and Process PDF Document"
   ]
  },
  {
   "cell_type": "code",
   "execution_count": null,
   "id": "38860a3b",
   "metadata": {},
   "outputs": [],
   "source": [
    "start_time = time.time()\n",
    "\n",
    "# Load the PDF document\n",
    "loader = PyPDFLoader(\"Harry Potter and the Sorcerers Stone.pdf\")\n",
    "data = loader.load()\n",
    "\n",
    "end_time = time.time()\n",
    "print(f\"Time taken to load the PDF document: {round(end_time - start_time, 4)} seconds\")"
   ]
  },
  {
   "cell_type": "code",
   "execution_count": null,
   "id": "b06f0814",
   "metadata": {},
   "outputs": [],
   "source": [
    "# Verify the number of documents loaded\n",
    "print(f\"Number of documents loaded: {len(data)}\")"
   ]
  },
  {
   "cell_type": "code",
   "execution_count": null,
   "id": "bd274375",
   "metadata": {},
   "outputs": [],
   "source": [
    "start_time = time.time()\n",
    "\n",
    "# Split the document into smaller chunks\n",
    "text_splitter = RecursiveCharacterTextSplitter(chunk_size=500, chunk_overlap=0)\n",
    "all_splits = text_splitter.split_documents(data)\n",
    "print(f\"Number of text chunks created: {len(all_splits)}\")\n",
    "\n",
    "end_time = time.time()\n",
    "print(f\"Time taken to split the documents: {round(end_time - start_time, 4)} seconds\")"
   ]
  },
  {
   "cell_type": "markdown",
   "id": "758a5a73",
   "metadata": {},
   "source": [
    "## 3. Create Embeddings and Vector Store"
   ]
  },
  {
   "cell_type": "code",
   "execution_count": null,
   "id": "d374dfe7",
   "metadata": {},
   "outputs": [],
   "source": [
    "start_time = time.time()\n",
    "\n",
    "# Load the embedding model\n",
    "model_name = \"sentence-transformers/all-mpnet-base-v2\"\n",
    "\n",
    "print(\"Using device: \", device)\n",
    "\n",
    "# Load the embeddings model to GPU/CPU based on availability\n",
    "embed_model = HuggingFaceEmbeddings(\n",
    "    model_name=model_name,\n",
    "    model_kwargs={'device': device},\n",
    "    encode_kwargs={'device': device, 'batch_size': 32}\n",
    ")\n",
    "\n",
    "if device != 'cpu': \n",
    "    # After you are done with the model, clear the GPU memory:\n",
    "    torch.cuda.empty_cache()  # Free up the cached memory on the GPU\n",
    "    print(\"GPU memory cleared.\")\n",
    "\n",
    "end_time = time.time()\n",
    "print(f\"Time taken to load the embeddings model: {round(end_time - start_time, 4)} seconds\")"
   ]
  },
  {
   "cell_type": "code",
   "execution_count": null,
   "id": "751762e0",
   "metadata": {},
   "outputs": [],
   "source": [
    "start_time = time.time()\n",
    "\n",
    "# Create the Chroma vector store\n",
    "vectorstore = Chroma.from_documents(documents=all_splits, embedding=embed_model)\n",
    "\n",
    "end_time = time.time()\n",
    "print(f\"Time taken to create the vector store: {round(end_time - start_time, 4)} seconds\")"
   ]
  },
  {
   "cell_type": "markdown",
   "id": "7964c5e5",
   "metadata": {},
   "source": [
    "## 4. Load the Language Model"
   ]
  },
  {
   "cell_type": "code",
   "execution_count": null,
   "id": "0ce2773a",
   "metadata": {},
   "outputs": [],
   "source": [
    "start_time = time.time()\n",
    "\n",
    "# Setup callback manager and LLM parameters\n",
    "n_gpu_layers = -1  # Metal set to 1 is enough.\n",
    "n_batch = 512  # Should be between 1 and n_ctx, consider the amount of RAM of your Apple Silicon Chip.\n",
    "callback_manager = CallbackManager([StreamingStdOutCallbackHandler()])\n",
    "\n",
    "\n",
    "end_time = time.time()\n",
    "print(f\"Time taken to setup callback manager and LLM parameters: {round(end_time - start_time, 4)} seconds\")"
   ]
  },
  {
   "cell_type": "code",
   "execution_count": null,
   "id": "d8e4e640",
   "metadata": {},
   "outputs": [],
   "source": [
    "start_time = time.time()\n",
    "\n",
    "# Load the LlamaCpp model\n",
    "llm = LlamaCpp(\n",
    "    model_path=\"models/llama-2-7b-chat.Q4_K_M.gguf\",\n",
    "    n_gpu_layers=n_gpu_layers,\n",
    "    n_batch=n_batch,\n",
    "    n_ctx=2048,\n",
    "    f16_kv=True,  # MUST set to True, otherwise you will run into problem after a couple of calls\n",
    "    callback_manager=callback_manager,\n",
    "    verbose=False,\n",
    ")\n",
    "\n",
    "end_time = time.time()\n",
    "print(f\"Time taken to initialize the LlamaCpp model: {round(end_time - start_time, 4)} seconds\")"
   ]
  },
  {
   "cell_type": "markdown",
   "id": "4f66b5b6",
   "metadata": {},
   "source": [
    "## 5. Create and Run the RAG Pipeline"
   ]
  },
  {
   "cell_type": "code",
   "execution_count": null,
   "id": "e554a927",
   "metadata": {},
   "outputs": [],
   "source": [
    "start_time = time.time()\n",
    "\n",
    "# Create the RetrievalQA pipeline\n",
    "rag_pipeline = RetrievalQA.from_chain_type(\n",
    "    llm=llm, chain_type='stuff',\n",
    "    retriever=vectorstore.as_retriever()\n",
    ")\n",
    "\n",
    "end_time = time.time()\n",
    "print(f\"Time taken to create the RetrievalQA pipeline: {round(end_time - start_time, 4)} seconds\")"
   ]
  },
  {
   "cell_type": "code",
   "execution_count": null,
   "id": "a6078fc9",
   "metadata": {},
   "outputs": [],
   "source": [
    "start_time = time.time()\n",
    "\n",
    "# Ask a question\n",
    "query = \"Who is Harry Potter?\"\n",
    "print(f\"Question: {query}\")\n",
    "\n",
    "# Get the answer from the pipeline\n",
    "result = rag_pipeline(query)\n",
    "print(result.content[0])\n",
    "\n",
    "end_time = time.time()\n",
    "print(f\"Time taken to get the answer: {round(end_time - start_time, 4)} seconds\")"
   ]
  }
 ],
 "metadata": {
  "kernelspec": {
   "display_name": "PDFChatBot",
   "language": "python",
   "name": "python3"
  },
  "language_info": {
   "codemirror_mode": {
    "name": "ipython",
    "version": 3
   },
   "file_extension": ".py",
   "mimetype": "text/x-python",
   "name": "python",
   "nbconvert_exporter": "python",
   "pygments_lexer": "ipython3",
   "version": "3.10.14"
  }
 },
 "nbformat": 4,
 "nbformat_minor": 5
}
